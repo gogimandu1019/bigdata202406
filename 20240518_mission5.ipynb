# This Python 3 environment comes with many helpful analytics libraries installed
# It is defined by the kaggle/python Docker image: https://github.com/kaggle/docker-python
# For example, here's several helpful packages to load

import numpy as np # linear algebra
import pandas as pd # data processing, CSV file I/O (e.g. pd.read_csv)
from datetime import datetime
# Input data files are available in the read-only "../input/" directory
# For example, running this (by clicking run or pressing Shift+Enter) will list all files under the input directory

import os
for dirname, _, filenames in os.walk('/kaggle/input'):
    for filename in filenames:
        print(os.path.join(dirname, filename))

# You can write up to 20GB to the current directory (/kaggle/working/) that gets preserved as output when you create a version using "Save & Run All" 
# You can also write temporary files to /kaggle/temp/, but they won't be saved outside of the current session

train = pd.read_csv("/kaggle/input/big-data-analytics-certification-kr-2023-5th/train.csv")
test = pd.read_csv("/kaggle/input/big-data-analytics-certification-kr-2023-5th/test.csv")

#train.info()
#test.info()
#train.isnull().sum()
#test.isnull().sum()

#train.describe() #중고차가 2060년? 이건 문제가 있다
#test.describe()

cond = train['year'] >= datetime.today().year
#print(len(train[cond])) -> 1마리면 날리자

train = train[~cond]
#train.describe()

cols = ['model','transmission','fuelType']
#train[cols].nunique() -> 라벨인코딩하자 19개는 원핫 선 심하게 넘는다
#라벨인코딩
from sklearn.preprocessing import LabelEncoder

for col in cols:
  le = LabelEncoder()
  train[col] = le.fit_transform(train[col])
  test[col] = le.transform(test[col])

#train.head()
#검증용데이터 분리
from sklearn.model_selection import train_test_split

x_tr, x_val, y_tr, y_val = train_test_split(
    train.drop('price', axis = 1), #train
    train['price'], #target
    test_size = 0.2, #rate
    random_state = 1 #randomstate
)

#x_tr.head()

#학습 - randomforestregressor
from sklearn.ensemble import RandomForestRegressor
model = RandomForestRegressor()
model.fit(x_tr, y_tr)
pre = model.predict(x_val)



# 평가
from sklearn.metrics import mean_squared_error
def rmse(y_test, y_pred): #RMSE
    return np.sqrt(mean_squared_error(y_test, y_pred))

# 선형회귀
from sklearn.linear_model import LinearRegression

model = LinearRegression()

model.fit(x_tr, y_tr)
pred = model.predict(x_val)

print(rmse(y_val, pred)) #2342.4126164617383


pred = model.predict(test)
pred = pred.astype('int')
print(pred.dtype)
pred
result = pd.DataFrame({'id':test.index,'price':pred})
result.to_csv('submission.csv',index=False)
a = pd.read_csv('submission.csv')
print(a)
