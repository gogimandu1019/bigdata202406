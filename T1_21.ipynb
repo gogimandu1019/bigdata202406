# ## 나이 구간 나누기
# ###  basic1 데이터 중 'age'컬럼 이상치를 제거하고, 동일한 개수로 나이 순으로 3그룹으로 나눈 뒤 각 그룹의 중앙값을 더하시오
# ### (이상치는 음수(0포함), 소수점 값)
# - data: basic1.csv
# - 오른쪽 상단 copy&edit 클릭 -> 예상문제 풀이 시작
import pandas as pd
df = pd.read_csv('../input/bigdatacertificationkr/basic1.csv')

cond1 = (df['age'] > 0)
cond2 = (df['age'] == round(df['age'], 0))

df2 = df[cond1 & cond2]
df_sort=df2.sort_values('age', ascending = True)

df_group1 = df_sort[0:30]
df_group2 = df_sort[30:60]
df_group3 = df_sort[60:90]

df_med1 = df_group1['age'].median()
df_med2 = df_group2['age'].median()
df_med3 = df_group3['age'].median()
answer = df_med1 + df_med2 + df_med3
print(answer)