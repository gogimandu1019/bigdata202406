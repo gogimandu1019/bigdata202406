# %% [markdown]
# ## 주어진 데이터는 고혈압 환자 치료 전후의 혈압이다. 해당 치료가 효과가 있는지 대응(쌍체)표본 t-검정을 진행하시오
# - 귀무가설(H0): $\mu$ >= 0
# - 대립가설(H1): $\mu$ < 0
# - $\mu$ = (치료 후 혈압 - 치료 전 혈압)의 평균
# - 유의수준: 0.05
# 
# 1. $\mu$의 표본평균은?(소수 둘째자리까지 반올림)
# 2. 검정통계량 값은?(소수 넷째자리까지 반올림)
# 3. p-값은?(소수 넷째자리까지 반올림)
# 4. 가설검정의 결과는? (유의수준 5%)

# %% [code]
import pandas as pd
df = pd.read_csv("/kaggle/input/bigdatacertificationkr/high_blood_pressure.csv")

# your code
#df.head()

df['diff'] = df['bp_post'] - df['bp_pre']
df.head()

mu = round(df['diff'].mean(), 2)
print(mu) #1.diff 표본평균 = mu

from scipy import stats

statistic, pvalue = stats.ttest_rel(df['bp_post'], df['bp_pre'], alternative = "less")
pvalue = round(pvalue, 4)
print(statistic) #검정통계량 -3.000~
print(pvalue) #p-value 0.0016~

alpha = 0.05

if pvalue < alpha:
    print(f"{pvalue} < {alpha} : 귀무가설 기각")
else:
    print(f"{pvalue} >= {alpha} : 귀무가설 채택")










