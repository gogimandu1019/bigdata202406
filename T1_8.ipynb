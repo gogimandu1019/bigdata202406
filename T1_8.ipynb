import pandas as pd
import numpy as np

df = pd.read_csv('../input/bigdatacertificationkr/basic1.csv')
cond = df['f2'] == 1

df2 = df[cond]
answer = df2['f1'].cumsum()

answer = answer.fillna(method = "bfill")

print(answer.mean()) #980.3783783783783