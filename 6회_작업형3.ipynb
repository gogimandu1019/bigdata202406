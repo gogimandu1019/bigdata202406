{
  "nbformat": 4,
  "nbformat_minor": 0,
  "metadata": {
    "colab": {
      "provenance": [],
      "authorship_tag": "ABX9TyOJhJe6r/mD8icUI1ppF/EI",
      "include_colab_link": true
    },
    "kernelspec": {
      "name": "python3",
      "display_name": "Python 3"
    },
    "language_info": {
      "name": "python"
    }
  },
  "cells": [
    {
      "cell_type": "markdown",
      "metadata": {
        "id": "view-in-github",
        "colab_type": "text"
      },
      "source": [
        "<a href=\"https://colab.research.google.com/github/gogimandu1019/bigdata202406/blob/main/6%ED%9A%8C_%EC%9E%91%EC%97%85%ED%98%953.ipynb\" target=\"_parent\"><img src=\"https://colab.research.google.com/assets/colab-badge.svg\" alt=\"Open In Colab\"/></a>"
      ]
    },
    {
      "cell_type": "markdown",
      "source": [
        "### Q1. 항암약 위약을 투여 받은 환자의 부작용은 감기약 위약을 투여 받은 환자의 부작용 분포와 차이가 있는가?\n",
        "\n",
        "항암약(위약)을 투여 받은 환자 그룹의 관찰된 부작용\n",
        "\n",
        "\n",
        "감기약(위약)을 투여받은 환자들 중의 알려진 부작용 발생 비율\n",
        "-\t귀무가설(H0): 감기약(위약)의 부작용과 항암약(위약)의 부작용은 동일하다.\n",
        "- \t대립가설(H1): 감기약(위약)의 부작용과 항암약(위약)의 부작용은 다르다.\n",
        "\n",
        "### 1-1. 항암약을 투여 받은 환자 중 '무증상'의 비율을 0과 1사이로 구하시오.\n",
        "### 1-2. 감기약의 예상 부작용 비율과 항암약의 부작용 관찰값이 통계적으로 유의미하게 차이가 있는지 확인하려 한다. 카이 제곱 검정을 사용하여 검정 통계량을 구하시오.\n",
        "### 1-3. 위의 p-값을 구하시오\n"
      ],
      "metadata": {
        "id": "QJFSHxl7DyTc"
      }
    },
    {
      "cell_type": "code",
      "source": [
        "import pandas as pd\n",
        "df = pd.DataFrame({ \"항암약\":[4,4,3,4,1,4,1,4,1,4,4,2,1,4,2,3,2,4,4,4] })\n",
        "# 1: '아픔', 2: '조금 아픔', 3: '속쓰림', 4: '무증상'"
      ],
      "metadata": {
        "id": "4tJkPMynEISr"
      },
      "execution_count": 44,
      "outputs": []
    },
    {
      "cell_type": "code",
      "source": [
        "# 1. 아픔: 10%\n",
        "# 2. 조금 아픔 5%\n",
        "# 3. 속 쓰림 15%\n",
        "# 4. 무증상: 70%"
      ],
      "metadata": {
        "id": "bWjEZXxOEJ1A"
      },
      "execution_count": 7,
      "outputs": []
    },
    {
      "cell_type": "code",
      "source": [
        "cond = df['항암약'] == 4\n",
        "prob = len(df[cond]) / len(df)\n",
        "print(prob)"
      ],
      "metadata": {
        "colab": {
          "base_uri": "https://localhost:8080/"
        },
        "id": "H6t-o9TMEdhE",
        "outputId": "d367fab5-b23f-4483-daeb-3b83ecd16e37"
      },
      "execution_count": 10,
      "outputs": [
        {
          "output_type": "stream",
          "name": "stdout",
          "text": [
            "0.55\n"
          ]
        }
      ]
    },
    {
      "cell_type": "code",
      "source": [
        "ob = df['항암약'].value_counts(normalize=True).sort_index().to_list()\n"
      ],
      "metadata": {
        "colab": {
          "base_uri": "https://localhost:8080/"
        },
        "id": "3ef9SmT-Ez7-",
        "outputId": "651c9299-aafe-4a06-b1f3-6210002cd0b2"
      },
      "execution_count": 54,
      "outputs": [
        {
          "output_type": "execute_result",
          "data": {
            "text/plain": [
              "[0.2, 0.15, 0.1, 0.55]"
            ]
          },
          "metadata": {},
          "execution_count": 54
        }
      ]
    },
    {
      "cell_type": "code",
      "source": [
        "ex = [0.1*20 , 0.05 * 20, 0.15 * 20, 0.7 * 20]\n",
        "ex\n",
        "ob = df['항암약'].value_counts().sort_index().to_list()\n",
        "ob\n",
        "\n",
        "from scipy import stats\n",
        "stats_val = stats.chisquare(ob, ex)[0]\n",
        "print(stats_val)\n",
        "p_val = stats.chisquare(ob,ex)[1]\n",
        "print(p_val)"
      ],
      "metadata": {
        "colab": {
          "base_uri": "https://localhost:8080/"
        },
        "id": "iwlF9JaUE0Y2",
        "outputId": "26e40558-4f4f-45ad-c7fe-9c1d3026dbff"
      },
      "execution_count": 24,
      "outputs": [
        {
          "output_type": "stream",
          "name": "stdout",
          "text": [
            "6.976190476190476\n",
            "0.07266054733847573\n"
          ]
        }
      ]
    },
    {
      "cell_type": "markdown",
      "source": [
        "##다중 선형 회귀 모델을 구축하고, 독립변수 o3의 회귀계수를 구하시오.\n",
        "###독립변수: solar(태양 에너지), wind(바람의 세기), o3(오존 농도)\n",
        "###종속변수: temperature(온도)\n",
        "###데이터에서 'solar'와 'o3' 값을 고정한 상태에서, 'wind'의 세기가 증가함에 따라 'temperature'가 감소하는지를 검증하기 위해 다중 선형 회귀 분석을 수행하고, 이 때'wind'의 회귀 계수에 대한 p-value 값을 구하시오. (유의수준: 0.05)\n",
        "###solar:100, wind:5, o3:30일 때 예측값과 그에 대한 95% 신뢰구간을 구하시오."
      ],
      "metadata": {
        "id": "Jb_EiHEmTyNw"
      }
    },
    {
      "cell_type": "code",
      "source": [
        "import pandas as pd\n",
        "df = pd.read_csv(\"data6-3-2.csv\")\n",
        "\n",
        "from statsmodels.formula.api import ols\n",
        "formula = \"temperature ~ solar + wind + o3\"\n",
        "model = ols(formula, data = df).fit()\n",
        "print(model.summary())\n",
        "\n",
        "#o3의 회귀계수\n",
        "print(0.0749)\n",
        "\n",
        "#solar, o3 고정한 상태에서 wind 증가에 따라 temperature 감소하는지를 검증, wind에 대한 p-value값 (0.05 유의수준)\n",
        "print(model.pvalues[\"wind\"]) #0.7797177202071661 > 0.05 : 귀무가설 유지\n",
        "\n",
        "new_data = pd.DataFrame({\n",
        "    'solar':[100],\n",
        "    'wind':[5],\n",
        "    'o3':[30]\n",
        "})\n",
        "new_data\n",
        "pred = model.get_prediction(new_data)\n",
        "print(pred.summary_frame(alpha=0.05))\n"
      ],
      "metadata": {
        "colab": {
          "base_uri": "https://localhost:8080/"
        },
        "id": "8cLFSOdvUFzw",
        "outputId": "5c2accbb-0197-4a12-ab97-abdb8de75331"
      },
      "execution_count": 40,
      "outputs": [
        {
          "output_type": "stream",
          "name": "stdout",
          "text": [
            "                            OLS Regression Results                            \n",
            "==============================================================================\n",
            "Dep. Variable:            temperature   R-squared:                       0.044\n",
            "Model:                            OLS   Adj. R-squared:                  0.014\n",
            "Method:                 Least Squares   F-statistic:                     1.464\n",
            "Date:                Sun, 09 Jun 2024   Prob (F-statistic):              0.229\n",
            "Time:                        06:10:01   Log-Likelihood:                -195.45\n",
            "No. Observations:                 100   AIC:                             398.9\n",
            "Df Residuals:                      96   BIC:                             409.3\n",
            "Df Model:                           3                                         \n",
            "Covariance Type:            nonrobust                                         \n",
            "==============================================================================\n",
            "                 coef    std err          t      P>|t|      [0.025      0.975]\n",
            "------------------------------------------------------------------------------\n",
            "Intercept     19.0507      1.994      9.555      0.000      15.093      23.008\n",
            "solar          0.0039      0.015      0.251      0.802      -0.027       0.035\n",
            "wind          -0.0252      0.090     -0.280      0.780      -0.204       0.153\n",
            "o3             0.0749      0.036      2.079      0.040       0.003       0.146\n",
            "==============================================================================\n",
            "Omnibus:                        0.654   Durbin-Watson:                   2.328\n",
            "Prob(Omnibus):                  0.721   Jarque-Bera (JB):                0.672\n",
            "Skew:                           0.187   Prob(JB):                        0.715\n",
            "Kurtosis:                       2.855   Cond. No.                     1.20e+03\n",
            "==============================================================================\n",
            "\n",
            "Notes:\n",
            "[1] Standard Errors assume that the covariance matrix of the errors is correctly specified.\n",
            "[2] The condition number is large, 1.2e+03. This might indicate that there are\n",
            "strong multicollinearity or other numerical problems.\n",
            "0.0749\n",
            "0.7797177202071661\n",
            "       mean   mean_se  mean_ci_lower  mean_ci_upper  obs_ci_lower  \\\n",
            "0  21.56163  0.175263      21.213737      21.909524     18.082985   \n",
            "\n",
            "   obs_ci_upper  \n",
            "0     25.040276  \n"
          ]
        }
      ]
    },
    {
      "cell_type": "code",
      "source": [],
      "metadata": {
        "id": "Tv0M0SmpUUdC"
      },
      "execution_count": null,
      "outputs": []
    }
  ]
}