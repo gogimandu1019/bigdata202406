{
  "nbformat": 4,
  "nbformat_minor": 0,
  "metadata": {
    "colab": {
      "provenance": [],
      "include_colab_link": true
    },
    "kernelspec": {
      "name": "python3",
      "display_name": "Python 3"
    },
    "language_info": {
      "name": "python"
    }
  },
  "cells": [
    {
      "cell_type": "markdown",
      "metadata": {
        "id": "view-in-github",
        "colab_type": "text"
      },
      "source": [
        "<a href=\"https://colab.research.google.com/github/gogimandu1019/bigdata202406/blob/main/6%ED%9A%8C_%EA%B8%B0%EC%B6%9C_%EC%9C%A0%ED%98%95(%EC%9E%91%EC%97%85%ED%98%951)_%EB%AC%B8%EC%A0%9C.ipynb\" target=\"_parent\"><img src=\"https://colab.research.google.com/assets/colab-badge.svg\" alt=\"Open In Colab\"/></a>"
      ]
    },
    {
      "cell_type": "markdown",
      "source": [
        "1. 주어진 데이터는 각 소방서의 출동/도착 시간데이터이다.\n",
        "출동시간과 도착시간 차이가 평균적으로 가장 오래 걸린 소방서의 시간을 분으로 변환해 출력하시오. (반올림 후 정수 출력)"
      ],
      "metadata": {
        "id": "C352FXmlMvvS"
      }
    },
    {
      "cell_type": "code",
      "execution_count": 50,
      "metadata": {
        "id": "PtrSDVWgMp07",
        "colab": {
          "base_uri": "https://localhost:8080/"
        },
        "outputId": "46e608a7-ba62-420e-cb6d-15f183b20ca4"
      },
      "outputs": [
        {
          "output_type": "execute_result",
          "data": {
            "text/plain": [
              "81.0"
            ]
          },
          "metadata": {},
          "execution_count": 50
        }
      ],
      "source": [
        "import pandas as pd\n",
        "df = pd.read_csv(\"data6-1-1.csv\")\n",
        "#뺄셈이 안되면 object : pd.to_datetime\n",
        "df['출동시간'] = pd.to_datetime(df['출동시간'])\n",
        "df['도착시간'] = pd.to_datetime(df['도착시간'])\n",
        "#df.info()\n",
        "df.head()\n",
        "\n",
        "df['시간차'] = df['도착시간'] - df['출동시간']\n",
        "df['시간차'] = df['시간차'].dt.total_seconds() / 60\n",
        "#seconds 도 있는데, 얘는 day를 무시하고 total_seconds()는 day를 포함함 : 배송일 등에서는 무조건 total_seconds()\n",
        "df2 = df.groupby('소방서')['시간차'].mean()\n",
        "round(df2.max(), 0)"
      ]
    },
    {
      "cell_type": "code",
      "source": [],
      "metadata": {
        "id": "wEhXFdON2WJ6"
      },
      "execution_count": null,
      "outputs": []
    },
    {
      "cell_type": "code",
      "source": [],
      "metadata": {
        "id": "IzT0zg8uhPQP"
      },
      "execution_count": null,
      "outputs": []
    },
    {
      "cell_type": "code",
      "source": [],
      "metadata": {
        "id": "kcpVVlADhPiO"
      },
      "execution_count": null,
      "outputs": []
    },
    {
      "cell_type": "markdown",
      "source": [
        "2. 학교에서 교사 한 명당 맡은 학생 수가 가장 많은 학교를 찾고, 그 학교의 전체 교사 수를 구하시오. (정수 출력)"
      ],
      "metadata": {
        "id": "WHPehQIr2G0R"
      }
    },
    {
      "cell_type": "code",
      "source": [
        "import pandas as pd\n",
        "df = pd.read_csv(\"data6-1-2.csv\")\n",
        "\n",
        "\n",
        "#df['교사1인당학생수']  = round((df['1학년'] + df['2학년'] + df['3학년'] + df['4학년'] + df['5학년'] + df['6학년']) / df['교사수'], 0)\n",
        "df['교사1인당학생수'] = round(df.iloc[:, 2:].sum(axis = 1) / df['교사수'],0)\n",
        "df.head(10)\n",
        "x = df['교사1인당학생수'].idxmax() #index 7 : 학교8이 max\n",
        "print(df['교사수'][x])"
      ],
      "metadata": {
        "id": "n-_CJh6-2K-g",
        "colab": {
          "base_uri": "https://localhost:8080/"
        },
        "outputId": "29fd3b10-a88e-4fff-cb66-73b0efd6ca78"
      },
      "execution_count": 61,
      "outputs": [
        {
          "output_type": "stream",
          "name": "stdout",
          "text": [
            "19\n"
          ]
        }
      ]
    },
    {
      "cell_type": "code",
      "source": [],
      "metadata": {
        "id": "GfI4dkM6hTMq"
      },
      "execution_count": null,
      "outputs": []
    },
    {
      "cell_type": "code",
      "source": [],
      "metadata": {
        "id": "PGlgb84GhTPq"
      },
      "execution_count": null,
      "outputs": []
    },
    {
      "cell_type": "markdown",
      "source": [
        "3. 연도별로 총 범죄 건수(범죄유형의 총합)의 월평균 값을 구한 후 그 값이 가장 큰 연도를 찾아, 해당 연도의 총 범죄 건수의 월평균 값을 출력하시오. (반올림하여 정수로 출력)"
      ],
      "metadata": {
        "id": "ur3vOFxy72jV"
      }
    },
    {
      "cell_type": "code",
      "source": [
        "import pandas as pd\n",
        "df = pd.read_csv(\"data6-1-3.csv\")\n",
        "df['범죄합'] = df.iloc[:, 1:7].sum(axis = 1)\n",
        "df['연도'] = df['날짜'].str[:4]\n",
        "df\n",
        "\n",
        "df2 = df.groupby('연도')['범죄합'].sum() / 12 #12로 나눠줘야 월평균, 지금은 그냥 토탈\n",
        "print(round(df2.max()))"
      ],
      "metadata": {
        "id": "pcfb-167794O",
        "colab": {
          "base_uri": "https://localhost:8080/"
        },
        "outputId": "2204563e-aeb3-4a2d-9a97-1ade1a04eb1f"
      },
      "execution_count": 59,
      "outputs": [
        {
          "output_type": "stream",
          "name": "stdout",
          "text": [
            "515\n"
          ]
        }
      ]
    },
    {
      "cell_type": "code",
      "source": [],
      "metadata": {
        "id": "KTAXIy1zCFhE"
      },
      "execution_count": null,
      "outputs": []
    },
    {
      "cell_type": "code",
      "source": [],
      "metadata": {
        "id": "vhlrbJN7hW7Z"
      },
      "execution_count": null,
      "outputs": []
    },
    {
      "cell_type": "code",
      "source": [],
      "metadata": {
        "id": "jOnhf3j_hW98"
      },
      "execution_count": null,
      "outputs": []
    }
  ]
}