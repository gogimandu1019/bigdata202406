# %% [code]
# 상관관계 구하기
# 주어진 데이터에서 상관관계를 구하고, quality와의 상관관계가 가장 큰 값과, 가장 작은 값을 구한 다음 더하시오!
# 단, quality와 quality 상관관계 제외, 소수점 둘째 자리까지 출력

import pandas as pd
import numpy as np

# 데이터 불러오기
df = pd.read_csv("../input/red-wine-quality-cortez-et-al-2009/winequality-red.csv")
#df.head()

df.corr()
df2 = df.corr()[:-1]

#df2['quality']

max = df2['quality'].max() #0.47616632400113656
min = df2['quality'].min() #-0.390557780264006

answer = round(max + min, 2)
print(answer) #0.09