{
  "nbformat": 4,
  "nbformat_minor": 0,
  "metadata": {
    "colab": {
      "provenance": [],
      "authorship_tag": "ABX9TyNrcawwlRnzGXFPkBT2Vixl",
      "include_colab_link": true
    },
    "kernelspec": {
      "name": "python3",
      "display_name": "Python 3"
    },
    "language_info": {
      "name": "python"
    }
  },
  "cells": [
    {
      "cell_type": "markdown",
      "metadata": {
        "id": "view-in-github",
        "colab_type": "text"
      },
      "source": [
        "<a href=\"https://colab.research.google.com/github/gogimandu1019/bigdata202406/blob/main/hello.ipynb\" target=\"_parent\"><img src=\"https://colab.research.google.com/assets/colab-badge.svg\" alt=\"Open In Colab\"/></a>"
      ]
    },
    {
      "cell_type": "code",
      "execution_count": 8,
      "metadata": {
        "colab": {
          "base_uri": "https://localhost:8080/"
        },
        "id": "MpFfHpYPQXis",
        "outputId": "3cee5f1e-484d-4a0f-e811-bbd573913534"
      },
      "outputs": [
        {
          "output_type": "stream",
          "name": "stdout",
          "text": [
            "hello\n"
          ]
        }
      ],
      "source": [
        "print('hello')"
      ]
    },
    {
      "cell_type": "code",
      "source": [
        "print(\"happy\")"
      ],
      "metadata": {
        "colab": {
          "base_uri": "https://localhost:8080/"
        },
        "id": "WbWNlip4SdRq",
        "outputId": "0949a8dc-320b-42a0-c224-42c184dbb67f"
      },
      "execution_count": 9,
      "outputs": [
        {
          "output_type": "stream",
          "name": "stdout",
          "text": [
            "happy\n"
          ]
        }
      ]
    },
    {
      "cell_type": "code",
      "source": [
        "print(55)"
      ],
      "metadata": {
        "colab": {
          "base_uri": "https://localhost:8080/"
        },
        "id": "_oiv7CUrSeYG",
        "outputId": "a9f84a03-20ac-4ca3-d0f2-efe4bd7ba74c"
      },
      "execution_count": 11,
      "outputs": [
        {
          "output_type": "stream",
          "name": "stdout",
          "text": [
            "55\n"
          ]
        }
      ]
    },
    {
      "cell_type": "code",
      "source": [
        "box = 10\n",
        "box2 = 20\n",
        "box3 = box + box2\n",
        "box = box + box\n",
        "print(box)"
      ],
      "metadata": {
        "colab": {
          "base_uri": "https://localhost:8080/"
        },
        "id": "smzuGPOPVVY3",
        "outputId": "7c38d34d-e4a3-49f7-aca4-d5e48b0de7ce"
      },
      "execution_count": 12,
      "outputs": [
        {
          "output_type": "stream",
          "name": "stdout",
          "text": [
            "20\n"
          ]
        }
      ]
    },
    {
      "cell_type": "code",
      "source": [
        "box = '15'\n",
        "box = int(box) + 10\n",
        "\n",
        "type(box)"
      ],
      "metadata": {
        "colab": {
          "base_uri": "https://localhost:8080/"
        },
        "id": "afM5zJzAVZwW",
        "outputId": "a73f2a1f-8d71-4809-c8c5-de5f25a749d4"
      },
      "execution_count": 15,
      "outputs": [
        {
          "output_type": "execute_result",
          "data": {
            "text/plain": [
              "int"
            ]
          },
          "metadata": {},
          "execution_count": 15
        }
      ]
    },
    {
      "cell_type": "code",
      "source": [
        "box = '15'\n",
        "type(int(box))"
      ],
      "metadata": {
        "colab": {
          "base_uri": "https://localhost:8080/"
        },
        "id": "BSIKsPHmVkIG",
        "outputId": "e8a2bee7-d5f8-4f21-daad-d57582d03c89"
      },
      "execution_count": 17,
      "outputs": [
        {
          "output_type": "execute_result",
          "data": {
            "text/plain": [
              "int"
            ]
          },
          "metadata": {},
          "execution_count": 17
        }
      ]
    },
    {
      "cell_type": "code",
      "source": [
        "box = 15\n",
        "if box >= 10 :\n",
        "  print(\"box는 10 이상\")\n",
        "elif box < 10 and box >= 5 :\n",
        "  print(\"box 5 이상 10 미만\")\n",
        "else:\n",
        "  print(\"box는 5 미만\")"
      ],
      "metadata": {
        "colab": {
          "base_uri": "https://localhost:8080/"
        },
        "id": "jWTOPTKrV-v5",
        "outputId": "fb380552-fbe6-4646-dc82-43b22eec2a99"
      },
      "execution_count": 19,
      "outputs": [
        {
          "output_type": "stream",
          "name": "stdout",
          "text": [
            "box는 10 이상\n"
          ]
        }
      ]
    },
    {
      "cell_type": "code",
      "source": [
        "listbox = [1,2,3,4,5,6,7,8]\n",
        "type(listbox)"
      ],
      "metadata": {
        "colab": {
          "base_uri": "https://localhost:8080/"
        },
        "id": "toGdGxJoXmE9",
        "outputId": "fdf337c4-82bb-47bd-949a-ba0b19b527e0"
      },
      "execution_count": 20,
      "outputs": [
        {
          "output_type": "execute_result",
          "data": {
            "text/plain": [
              "list"
            ]
          },
          "metadata": {},
          "execution_count": 20
        }
      ]
    },
    {
      "cell_type": "code",
      "source": [
        "listbox = ['네모','세모','동그라미']\n",
        "listbox\n",
        "listbox.append('별')\n",
        "listbox.sort()\n",
        "print(listbox)"
      ],
      "metadata": {
        "colab": {
          "base_uri": "https://localhost:8080/"
        },
        "id": "SlTuvGJoYk4W",
        "outputId": "b5c203b5-0dbd-4a53-c431-9f3fc5e73244"
      },
      "execution_count": 26,
      "outputs": [
        {
          "output_type": "stream",
          "name": "stdout",
          "text": [
            "['네모', '동그라미', '별', '세모']\n"
          ]
        }
      ]
    },
    {
      "cell_type": "code",
      "source": [
        "di = {'name' : 'sam', 'level' : 5}\n",
        "di\n",
        "type(di)"
      ],
      "metadata": {
        "colab": {
          "base_uri": "https://localhost:8080/"
        },
        "id": "OdwiqYRzYnlg",
        "outputId": "fa880b14-1608-4092-ff9a-67bb87abccc7"
      },
      "execution_count": 28,
      "outputs": [
        {
          "output_type": "execute_result",
          "data": {
            "text/plain": [
              "dict"
            ]
          },
          "metadata": {},
          "execution_count": 28
        }
      ]
    },
    {
      "cell_type": "code",
      "source": [
        "di['name']"
      ],
      "metadata": {
        "colab": {
          "base_uri": "https://localhost:8080/",
          "height": 35
        },
        "id": "45CGVHzvZSYU",
        "outputId": "594a536f-90c0-48a3-c710-59a0b9aae47b"
      },
      "execution_count": 29,
      "outputs": [
        {
          "output_type": "execute_result",
          "data": {
            "text/plain": [
              "'sam'"
            ],
            "application/vnd.google.colaboratory.intrinsic+json": {
              "type": "string"
            }
          },
          "metadata": {},
          "execution_count": 29
        }
      ]
    },
    {
      "cell_type": "code",
      "source": [
        "di['level']"
      ],
      "metadata": {
        "colab": {
          "base_uri": "https://localhost:8080/"
        },
        "id": "hGQIYFEzZXHC",
        "outputId": "730754dc-ed81-43c3-e13d-51451a86bd21"
      },
      "execution_count": 30,
      "outputs": [
        {
          "output_type": "execute_result",
          "data": {
            "text/plain": [
              "5"
            ]
          },
          "metadata": {},
          "execution_count": 30
        }
      ]
    },
    {
      "cell_type": "code",
      "source": [
        "di['name'] = '네모'\n",
        "di"
      ],
      "metadata": {
        "colab": {
          "base_uri": "https://localhost:8080/"
        },
        "id": "MPoHwy2ZZZGw",
        "outputId": "a831db89-c36c-4e35-921e-e250385be5d9"
      },
      "execution_count": 31,
      "outputs": [
        {
          "output_type": "execute_result",
          "data": {
            "text/plain": [
              "{'name': '네모', 'level': 5}"
            ]
          },
          "metadata": {},
          "execution_count": 31
        }
      ]
    },
    {
      "cell_type": "code",
      "source": [
        "di.keys()"
      ],
      "metadata": {
        "colab": {
          "base_uri": "https://localhost:8080/"
        },
        "id": "gl4ZPHfjZdWf",
        "outputId": "66989c4a-044b-4030-9bf6-91d12af31fcd"
      },
      "execution_count": 32,
      "outputs": [
        {
          "output_type": "execute_result",
          "data": {
            "text/plain": [
              "dict_keys(['name', 'level'])"
            ]
          },
          "metadata": {},
          "execution_count": 32
        }
      ]
    },
    {
      "cell_type": "code",
      "source": [
        "di.values()"
      ],
      "metadata": {
        "colab": {
          "base_uri": "https://localhost:8080/"
        },
        "id": "wA4BGRMWZfeh",
        "outputId": "f2d77ef6-52ce-43d0-82da-4f4501a855fc"
      },
      "execution_count": 34,
      "outputs": [
        {
          "output_type": "execute_result",
          "data": {
            "text/plain": [
              "dict_values(['네모', 5])"
            ]
          },
          "metadata": {},
          "execution_count": 34
        }
      ]
    },
    {
      "cell_type": "code",
      "source": [
        "listbox = [2,4,6,8,10]\n",
        "listbox[::2]"
      ],
      "metadata": {
        "colab": {
          "base_uri": "https://localhost:8080/"
        },
        "id": "AIh31KJFZiBI",
        "outputId": "aeffceee-b68c-4025-8ea7-2952e5edeae4"
      },
      "execution_count": 40,
      "outputs": [
        {
          "output_type": "execute_result",
          "data": {
            "text/plain": [
              "[2, 6, 10]"
            ]
          },
          "metadata": {},
          "execution_count": 40
        }
      ]
    },
    {
      "cell_type": "code",
      "source": [
        "sum(listbox)"
      ],
      "metadata": {
        "colab": {
          "base_uri": "https://localhost:8080/"
        },
        "id": "AJ8rm92jdCQu",
        "outputId": "bd457c46-c783-424a-ac06-9479bddb0736"
      },
      "execution_count": 41,
      "outputs": [
        {
          "output_type": "execute_result",
          "data": {
            "text/plain": [
              "30"
            ]
          },
          "metadata": {},
          "execution_count": 41
        }
      ]
    },
    {
      "cell_type": "code",
      "source": [
        "round(1.2345,2)"
      ],
      "metadata": {
        "colab": {
          "base_uri": "https://localhost:8080/"
        },
        "id": "SLasLDqhds0k",
        "outputId": "7828e96c-b744-4e7f-dab9-fefbe42d9f91"
      },
      "execution_count": 42,
      "outputs": [
        {
          "output_type": "execute_result",
          "data": {
            "text/plain": [
              "1.23"
            ]
          },
          "metadata": {},
          "execution_count": 42
        }
      ]
    },
    {
      "cell_type": "code",
      "source": [
        "text = \"안녕하세요 퇴근후딴짓입니다.\"\n",
        "text[:2]"
      ],
      "metadata": {
        "colab": {
          "base_uri": "https://localhost:8080/",
          "height": 35
        },
        "id": "ly_Y4dK1eDds",
        "outputId": "e33eee30-7647-42ae-d795-bfa53a8a76f4"
      },
      "execution_count": 43,
      "outputs": [
        {
          "output_type": "execute_result",
          "data": {
            "text/plain": [
              "'안녕'"
            ],
            "application/vnd.google.colaboratory.intrinsic+json": {
              "type": "string"
            }
          },
          "metadata": {},
          "execution_count": 43
        }
      ]
    },
    {
      "cell_type": "code",
      "source": [
        "date = \"2022-12-25\"\n",
        "date[5:7]"
      ],
      "metadata": {
        "colab": {
          "base_uri": "https://localhost:8080/",
          "height": 35
        },
        "id": "mdR9A-ZZehN4",
        "outputId": "b7852dbf-2ad7-4710-9b39-ce6825d0a1d5"
      },
      "execution_count": 45,
      "outputs": [
        {
          "output_type": "execute_result",
          "data": {
            "text/plain": [
              "'12'"
            ],
            "application/vnd.google.colaboratory.intrinsic+json": {
              "type": "string"
            }
          },
          "metadata": {},
          "execution_count": 45
        }
      ]
    },
    {
      "cell_type": "code",
      "source": [
        "listbox= ['감사','행복','사랑','습관','긍정','변화','성장','공감','희망']\n",
        "listbox\n",
        "#len(listbox)\n",
        "#listbox[0]\n",
        "#listbox[-1]\n",
        "#listbox[2]\n",
        "#listbox[-2]\n",
        "listbox[1:3]"
      ],
      "metadata": {
        "colab": {
          "base_uri": "https://localhost:8080/"
        },
        "id": "y2-5IJH7elSE",
        "outputId": "921b2016-9d68-4b70-84e7-fb52e771687e"
      },
      "execution_count": 58,
      "outputs": [
        {
          "output_type": "execute_result",
          "data": {
            "text/plain": [
              "['행복', '사랑']"
            ]
          },
          "metadata": {},
          "execution_count": 58
        }
      ]
    },
    {
      "cell_type": "code",
      "source": [
        "for item in range(5):\n",
        "  print(item)"
      ],
      "metadata": {
        "colab": {
          "base_uri": "https://localhost:8080/"
        },
        "id": "87qPUbgZe49w",
        "outputId": "74cf738d-9a14-43ad-8f32-6d9a05a93e42"
      },
      "execution_count": 1,
      "outputs": [
        {
          "output_type": "stream",
          "name": "stdout",
          "text": [
            "0\n",
            "1\n",
            "2\n",
            "3\n",
            "4\n"
          ]
        }
      ]
    },
    {
      "cell_type": "code",
      "source": [
        "for i in range(5,10):\n",
        "  print(i)"
      ],
      "metadata": {
        "colab": {
          "base_uri": "https://localhost:8080/"
        },
        "id": "VkyMZ6ZC390u",
        "outputId": "dd15df7c-ffcc-4109-d078-d08b3637a09b"
      },
      "execution_count": 2,
      "outputs": [
        {
          "output_type": "stream",
          "name": "stdout",
          "text": [
            "5\n",
            "6\n",
            "7\n",
            "8\n",
            "9\n"
          ]
        }
      ]
    },
    {
      "cell_type": "code",
      "source": [
        "listbox = [2,4,6,8,10]\n",
        "for i in listbox:\n",
        "  print(i+1)"
      ],
      "metadata": {
        "colab": {
          "base_uri": "https://localhost:8080/"
        },
        "id": "FWxUY8vH4CIM",
        "outputId": "0a54e574-8fe5-4892-eef3-e536172ab928"
      },
      "execution_count": 4,
      "outputs": [
        {
          "output_type": "stream",
          "name": "stdout",
          "text": [
            "3\n",
            "5\n",
            "7\n",
            "9\n",
            "11\n"
          ]
        }
      ]
    },
    {
      "cell_type": "code",
      "source": [
        "listbox = ['네모','세모','동그라미']\n",
        "for i in listbox:\n",
        "  print(i)"
      ],
      "metadata": {
        "colab": {
          "base_uri": "https://localhost:8080/"
        },
        "id": "B4nYQW0f4HOZ",
        "outputId": "02b30ecf-0327-4d4e-b2ee-5b4b5f949ca5"
      },
      "execution_count": 5,
      "outputs": [
        {
          "output_type": "stream",
          "name": "stdout",
          "text": [
            "네모\n",
            "세모\n",
            "동그라미\n"
          ]
        }
      ]
    },
    {
      "cell_type": "code",
      "source": [
        "listbox = ['네모','세모','동그라미']\n",
        "\n",
        "for index, item in enumerate(listbox):\n",
        "  print(f'인덱스{index}인 값은 {item}입니다.')"
      ],
      "metadata": {
        "colab": {
          "base_uri": "https://localhost:8080/"
        },
        "id": "1cvG5qNM4glB",
        "outputId": "96d0664c-ec22-4c79-ac6a-eee4681b7cd9"
      },
      "execution_count": 8,
      "outputs": [
        {
          "output_type": "stream",
          "name": "stdout",
          "text": [
            "인덱스0인 값은 네모입니다.\n",
            "인덱스1인 값은 세모입니다.\n",
            "인덱스2인 값은 동그라미입니다.\n"
          ]
        }
      ]
    },
    {
      "cell_type": "code",
      "source": [
        "cols = ['name','age','phone']\n",
        "\n",
        "for i in cols :\n",
        "  print(i)"
      ],
      "metadata": {
        "colab": {
          "base_uri": "https://localhost:8080/"
        },
        "id": "UsOQvsEq4v7T",
        "outputId": "dc1862d3-1776-4397-fb90-05c933adf93e"
      },
      "execution_count": 10,
      "outputs": [
        {
          "output_type": "stream",
          "name": "stdout",
          "text": [
            "name\n",
            "age\n",
            "phone\n"
          ]
        }
      ]
    },
    {
      "cell_type": "code",
      "source": [
        "def hello():\n",
        "  print('안녕하세요!')\n",
        "\n",
        "\n",
        "hello()"
      ],
      "metadata": {
        "colab": {
          "base_uri": "https://localhost:8080/"
        },
        "id": "c2xGaj8t5JyI",
        "outputId": "98837fa6-a843-49ae-a22f-4ff125edec3d"
      },
      "execution_count": 12,
      "outputs": [
        {
          "output_type": "stream",
          "name": "stdout",
          "text": [
            "안녕하세요!\n"
          ]
        }
      ]
    },
    {
      "cell_type": "code",
      "source": [
        "def plus(x,y):\n",
        "  print(x+y)\n",
        "\n",
        "\n",
        "a = 2\n",
        "b = 3\n",
        "plus(2,3)"
      ],
      "metadata": {
        "colab": {
          "base_uri": "https://localhost:8080/"
        },
        "id": "z3rT1q675ZAy",
        "outputId": "4c43f451-9d44-4645-b076-cc3f706bf2b0"
      },
      "execution_count": 13,
      "outputs": [
        {
          "output_type": "stream",
          "name": "stdout",
          "text": [
            "5\n"
          ]
        }
      ]
    },
    {
      "cell_type": "code",
      "source": [
        "def plus(x,y):\n",
        "  result = x + y\n",
        "  return result\n",
        "\n",
        "plus(2,3)"
      ],
      "metadata": {
        "colab": {
          "base_uri": "https://localhost:8080/"
        },
        "id": "RVvC8DgE5rOb",
        "outputId": "1b64db5d-92e1-46a1-dae0-e460c7f4358b"
      },
      "execution_count": 14,
      "outputs": [
        {
          "output_type": "execute_result",
          "data": {
            "text/plain": [
              "5"
            ]
          },
          "metadata": {},
          "execution_count": 14
        }
      ]
    },
    {
      "cell_type": "code",
      "source": [
        "listbox = [15,46,78,24,56]\n",
        "def min_max(data):\n",
        "  mi = min(data)\n",
        "  ma = max(data)\n",
        "  return mi, ma\n",
        "\n",
        "min_max(listbox)"
      ],
      "metadata": {
        "colab": {
          "base_uri": "https://localhost:8080/"
        },
        "id": "ai4f2_ei5wBh",
        "outputId": "67ec5fe1-6a87-4b3b-b729-97e1a7ac47f2"
      },
      "execution_count": 15,
      "outputs": [
        {
          "output_type": "execute_result",
          "data": {
            "text/plain": [
              "(15, 78)"
            ]
          },
          "metadata": {},
          "execution_count": 15
        }
      ]
    },
    {
      "cell_type": "code",
      "source": [
        "listbox = [15,46,78,24,56]\n",
        "def mean(data):\n",
        "  return sum(data) / len(data)\n",
        "\n",
        "mean(listbox)"
      ],
      "metadata": {
        "colab": {
          "base_uri": "https://localhost:8080/"
        },
        "id": "uVcGanom6I9F",
        "outputId": "bd86ae1e-e627-41d4-9d50-e8661259309c"
      },
      "execution_count": 16,
      "outputs": [
        {
          "output_type": "execute_result",
          "data": {
            "text/plain": [
              "43.8"
            ]
          },
          "metadata": {},
          "execution_count": 16
        }
      ]
    },
    {
      "cell_type": "code",
      "source": [
        "listbox = [15,46,78,24,56]\n",
        "\n",
        "def f(x):\n",
        "  k = max(x) - min(x)\n",
        "  return k\n",
        "\n",
        "f(listbox)"
      ],
      "metadata": {
        "colab": {
          "base_uri": "https://localhost:8080/"
        },
        "id": "CexAszNs6a2U",
        "outputId": "95ac0b8a-1531-4cfa-b1aa-44541b34b3df"
      },
      "execution_count": 17,
      "outputs": [
        {
          "output_type": "execute_result",
          "data": {
            "text/plain": [
              "63"
            ]
          },
          "metadata": {},
          "execution_count": 17
        }
      ]
    },
    {
      "cell_type": "code",
      "source": [],
      "metadata": {
        "id": "UoCEa-s96uZH"
      },
      "execution_count": null,
      "outputs": []
    }
  ]
}