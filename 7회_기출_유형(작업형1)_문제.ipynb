{
  "nbformat": 4,
  "nbformat_minor": 0,
  "metadata": {
    "colab": {
      "provenance": [],
      "include_colab_link": true
    },
    "kernelspec": {
      "name": "python3",
      "display_name": "Python 3"
    },
    "language_info": {
      "name": "python"
    }
  },
  "cells": [
    {
      "cell_type": "markdown",
      "metadata": {
        "id": "view-in-github",
        "colab_type": "text"
      },
      "source": [
        "<a href=\"https://colab.research.google.com/github/gogimandu1019/bigdata202406/blob/main/7%ED%9A%8C_%EA%B8%B0%EC%B6%9C_%EC%9C%A0%ED%98%95(%EC%9E%91%EC%97%85%ED%98%951)_%EB%AC%B8%EC%A0%9C.ipynb\" target=\"_parent\"><img src=\"https://colab.research.google.com/assets/colab-badge.svg\" alt=\"Open In Colab\"/></a>"
      ]
    },
    {
      "cell_type": "markdown",
      "source": [
        "## 작업형1"
      ],
      "metadata": {
        "id": "ImS-bayEojdA"
      }
    },
    {
      "cell_type": "markdown",
      "source": [
        "### 문제1. 결측치가 있는 행을 제거한 후, 학생이 가장 많이 수강한 과목(id_assessment)을 찾고, 해당 과목 점수(score)를 표준화(스탠다스 스케일) 한 뒤에 표준화된 가장 큰 값을 구하시오. (반올림하여 소수 셋째자리까지 계산)"
      ],
      "metadata": {
        "id": "JO-2zLFZsse1"
      }
    },
    {
      "cell_type": "code",
      "execution_count": null,
      "metadata": {
        "id": "QfWBB-yjCuX8",
        "colab": {
          "base_uri": "https://localhost:8080/"
        },
        "outputId": "86a51463-69fb-4df2-eb90-ce4e0a0885ae"
      },
      "outputs": [
        {
          "output_type": "stream",
          "name": "stdout",
          "text": [
            "2.183\n"
          ]
        },
        {
          "output_type": "stream",
          "name": "stderr",
          "text": [
            "<ipython-input-41-edda8865fa9e>:20: SettingWithCopyWarning: \n",
            "A value is trying to be set on a copy of a slice from a DataFrame.\n",
            "Try using .loc[row_indexer,col_indexer] = value instead\n",
            "\n",
            "See the caveats in the documentation: https://pandas.pydata.org/pandas-docs/stable/user_guide/indexing.html#returning-a-view-versus-a-copy\n",
            "  df2['score'] = scaler.fit_transform(df2[['score']])\n"
          ]
        }
      ],
      "source": [
        "import pandas as pd\n",
        "df = pd.read_csv(\"student_assessment.csv\")\n",
        "df.head() #id_assessment\tstudent_id\tstudy_period_days\tscore\n",
        "df.isnull().sum() #score 에 결측치가 발생\n",
        "\n",
        "#cond = df['score'].isnull() == True\n",
        "df = df.dropna()\n",
        "# df = df[~cond]\n",
        "# df.isnull().sum()\n",
        "\n",
        "df['id_assessment'].value_counts() #12 33개\n",
        "\n",
        "\n",
        "cond2 = df['id_assessment'] == 12\n",
        "df2 = df[cond2]\n",
        "\n",
        "from sklearn.preprocessing import StandardScaler\n",
        "scaler = StandardScaler()\n",
        "\n",
        "df2['score'] = scaler.fit_transform(df2[['score']])\n",
        "x = df2['score'].max()\n",
        "print(round(x, 3))"
      ]
    },
    {
      "cell_type": "code",
      "source": [],
      "metadata": {
        "id": "MIff7D_s_vIo"
      },
      "execution_count": null,
      "outputs": []
    },
    {
      "cell_type": "code",
      "source": [],
      "metadata": {
        "id": "y-GEFOBV_vK9"
      },
      "execution_count": null,
      "outputs": []
    },
    {
      "cell_type": "markdown",
      "source": [
        "### 문제2. DE1~DE77컬럼 중 주가지수의 종가 \"close\"와 가장 상관관계가 높은 변수를 찾아, 해당 변수의 평균값을 구하시오. (반올림하여 소수 넷째자리까지 계산)"
      ],
      "metadata": {
        "id": "sHC4blpRswAJ"
      }
    },
    {
      "cell_type": "code",
      "source": [
        "import pandas as pd\n",
        "df = pd.read_csv(\"stock_market.csv\")\n",
        "df.head()\n",
        "\n",
        "df2 = df.corr()['close'].abs() #음의 상관관계도 절대값이 클 수 있음을 고려해야\n",
        "df2\n",
        "df2[:76].idxmax() #DE14\n",
        "\n",
        "x = round(df['DE14'].mean(), 4)\n",
        "print(x)"
      ],
      "metadata": {
        "id": "usqyPcI4J0eL",
        "colab": {
          "base_uri": "https://localhost:8080/"
        },
        "outputId": "a09a1cc6-d9d7-47f4-d366-85b59048954f"
      },
      "execution_count": null,
      "outputs": [
        {
          "output_type": "stream",
          "name": "stdout",
          "text": [
            "-0.0004\n"
          ]
        }
      ]
    },
    {
      "cell_type": "code",
      "source": [],
      "metadata": {
        "id": "Q9bGZbtBI262"
      },
      "execution_count": null,
      "outputs": []
    },
    {
      "cell_type": "code",
      "source": [],
      "metadata": {
        "id": "LvtRP4CoI29d"
      },
      "execution_count": null,
      "outputs": []
    },
    {
      "cell_type": "markdown",
      "source": [
        "### 문제3. IQR을 이용해 이산화탄소(CO2) 이상치 수를 찾으시오\n",
        "\n",
        "- Q1 (제 1사분위수): 하위 25% 값\n",
        "- Q3 (제 3사분위수): 상위 25% 값\n",
        "- IQR (사분위수 범위): IQR = Q3 - Q1\n",
        "\n",
        "- lower (하한선): Q1 - 1.5 * IQR, 이 값보다 작은 데이터는 이상치로 간주\n",
        "- upper (상한선): Q3 + 1.5 * IQR, 이 값보다 큰 데이터는 이상치로 간주\n",
        "\n"
      ],
      "metadata": {
        "id": "E9QDz8l-sy4D"
      }
    },
    {
      "cell_type": "code",
      "source": [
        "import pandas as pd\n",
        "df = pd.read_csv(\"air_quality.csv\")\n",
        "df.head()\n",
        "\n",
        "Q1 = df['CO2'].quantile(0.25)\n",
        "Q3 = df['CO2'].quantile(0.75)\n",
        "IQR = Q3 - Q1\n",
        "lower = Q1 - 1.5*IQR\n",
        "upper = Q3 + 1.5*IQR\n",
        "cond =( (df['CO2'] > upper) | (df['CO2'] < lower) )\n",
        "\n",
        "print(len(df[cond]))"
      ],
      "metadata": {
        "id": "LipHWwikUBL-",
        "colab": {
          "base_uri": "https://localhost:8080/"
        },
        "outputId": "fb486682-b4a0-45ec-be90-18c33ef66900"
      },
      "execution_count": null,
      "outputs": [
        {
          "output_type": "stream",
          "name": "stdout",
          "text": [
            "304\n"
          ]
        }
      ]
    },
    {
      "cell_type": "code",
      "source": [],
      "metadata": {
        "id": "xorML0mi73OK"
      },
      "execution_count": null,
      "outputs": []
    }
  ]
}