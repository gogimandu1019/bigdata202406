{
  "nbformat": 4,
  "nbformat_minor": 0,
  "metadata": {
    "colab": {
      "provenance": [],
      "include_colab_link": true
    },
    "kernelspec": {
      "name": "python3",
      "display_name": "Python 3"
    },
    "language_info": {
      "name": "python"
    }
  },
  "cells": [
    {
      "cell_type": "markdown",
      "metadata": {
        "id": "view-in-github",
        "colab_type": "text"
      },
      "source": [
        "<a href=\"https://colab.research.google.com/github/gogimandu1019/bigdata202406/blob/main/4_2_type1.ipynb\" target=\"_parent\"><img src=\"https://colab.research.google.com/assets/colab-badge.svg\" alt=\"Open In Colab\"/></a>"
      ]
    },
    {
      "cell_type": "markdown",
      "source": [
        "# 작업형1 모의문제2\n",
        "- data : members.csv"
      ],
      "metadata": {
        "id": "jvuNsPAY41yZ"
      }
    },
    {
      "cell_type": "markdown",
      "source": [
        "## 문제4\n",
        "- 주어진 데이터에서 자료형(type)이 object인 컬럼은 삭제하고, 결측치는 0으로 대체한다.\n",
        "- 행 단위로 합한 다음 그 값이 3000보다 큰 값의 데이터 수를 구하시오\n",
        "('age', 'f1', 'f2', 'f5', 'views'의 각 행별 합)"
      ],
      "metadata": {
        "id": "PVBhS3mWQOJp"
      }
    },
    {
      "cell_type": "code",
      "source": [
        "# your code\n",
        "import pandas as pd\n",
        "\n",
        "df = pd.read_csv('members.csv')\n",
        "cols= df.select_dtypes(include='object').columns #object인 칼럼 : id, city, f3, f4, subscribed\n",
        "\n",
        "df = df.drop(cols, axis=1)\n",
        "df\n",
        "\n",
        "df = df.fillna(0)\n",
        "df['summ'] = df['age'] + df['f1'] + df['f2'] + df['f5'] + df['views']\n",
        "df\n",
        "\n",
        "cond = df['summ']  > 3000\n",
        "print(sum(cond))"
      ],
      "metadata": {
        "id": "d9UC9l2OQQ4m",
        "colab": {
          "base_uri": "https://localhost:8080/"
        },
        "outputId": "6e425868-82f4-4230-ba51-e286f54e7d34"
      },
      "execution_count": 54,
      "outputs": [
        {
          "output_type": "stream",
          "name": "stdout",
          "text": [
            "73\n"
          ]
        }
      ]
    },
    {
      "cell_type": "markdown",
      "source": [
        "## 문제5\n",
        "- 데이터에서 IQR을 활용해 views 컬럼의 이상치를 찾고, 이상치 데이터의 수를 구하시오"
      ],
      "metadata": {
        "id": "h2IXr3A_QRWS"
      }
    },
    {
      "cell_type": "code",
      "source": [
        "# your code\n",
        "import pandas as pd\n",
        "\n",
        "df = pd.read_csv('members.csv')\n",
        "df\n",
        "\n",
        "q1 = df['views'].quantile(0.25)\n",
        "q3 = df['views'].quantile(0.75)\n",
        "iqr = q3 - q1\n",
        "minn = q1 - 1.5*iqr\n",
        "maxx = q3 + 1.5*iqr\n",
        "\n",
        "cond1 = (df['views'] < minn)\n",
        "cond2 = (df['views'] > maxx)\n",
        "\n",
        "cnt = sum(cond1 | cond2)\n",
        "print(cnt)"
      ],
      "metadata": {
        "id": "SNMu1ew0QTnD",
        "colab": {
          "base_uri": "https://localhost:8080/"
        },
        "outputId": "2f93c7e6-d97f-4415-9700-4d9301a13399"
      },
      "execution_count": 32,
      "outputs": [
        {
          "output_type": "stream",
          "name": "stdout",
          "text": [
            "4\n"
          ]
        }
      ]
    },
    {
      "cell_type": "markdown",
      "source": [
        "## 문제6\n",
        "- 'age' 컬럼의 이상치(소수점 나이와 음수나이, 0포함)를 제거하고\n",
        "- 제거 전 후의 views 컬럼 표준편차를 더하시오 (최종 결과 값은 소수 둘째자리까지 출력, 셋째자리에서 반올림)"
      ],
      "metadata": {
        "id": "gV-W-F2wQTuw"
      }
    },
    {
      "cell_type": "code",
      "source": [
        "# your code\n",
        "\n",
        "import pandas as pd\n",
        "\n",
        "df = pd.read_csv('members.csv')\n",
        "df\n",
        "#print(df.shape)\n",
        "#데이터 제거전 표준편차\n",
        "std1 = df['views'].std() #4170.860768106485\n",
        "\n",
        "cond1 = (df['age'] > 0)\n",
        "cond2 = (df['age'] % 1 == 0)\n",
        "df = df[cond1 & cond2]\n",
        "#print(df.shape)\n",
        "df\n",
        "\n",
        "std2= df['views'].std() #4249.83323306832\n",
        "\n",
        "print(round(std1 + std2, 2))"
      ],
      "metadata": {
        "id": "TAP8aeX0QW3L",
        "colab": {
          "base_uri": "https://localhost:8080/"
        },
        "outputId": "7f38a92b-56bc-4dc5-e86d-3ba8052abfc8"
      },
      "execution_count": 56,
      "outputs": [
        {
          "output_type": "stream",
          "name": "stdout",
          "text": [
            "8420.69\n"
          ]
        }
      ]
    },
    {
      "cell_type": "code",
      "source": [],
      "metadata": {
        "id": "IvJ_vQcv95fH"
      },
      "execution_count": null,
      "outputs": []
    },
    {
      "cell_type": "markdown",
      "source": [
        "# 풀이"
      ],
      "metadata": {
        "id": "7wXaul1WQZth"
      }
    },
    {
      "cell_type": "markdown",
      "source": [
        "## 문제4\n",
        "- 주어진 데이터에서 자료형(type)이 object인 컬럼은 삭제하고, 결측치는 0으로 대체한다.\n",
        "- 행 단위로 합한 다음 그 값이 3000보다 큰 값의 데이터 수를 구하시오\n",
        "('age', 'f1', 'f2', 'f5', 'views'의 각 행별 합)"
      ],
      "metadata": {
        "id": "oz7POiFg5BbF"
      }
    },
    {
      "cell_type": "code",
      "execution_count": null,
      "metadata": {
        "id": "T0JqOyc24q9O",
        "colab": {
          "base_uri": "https://localhost:8080/"
        },
        "outputId": "0b9ac5e9-8894-4be4-e852-223f98900b65"
      },
      "outputs": [
        {
          "output_type": "stream",
          "name": "stdout",
          "text": [
            "73\n"
          ]
        }
      ],
      "source": [
        "# 풀이\n",
        "import pandas as pd\n",
        "df = pd.read_csv(\"members.csv\")\n",
        "\n",
        "# cols = df.select_dtypes(include='object').columns\n",
        "# cols\n",
        "# df = df.drop(cols, axis=1)\n",
        "# df.head()\n",
        "\n",
        "cols = df.select_dtypes(exclude='object').columns\n",
        "cols\n",
        "df = df[cols]\n",
        "df.head()\n",
        "\n",
        "df = df.fillna(0)\n",
        "df = df.T\n",
        "df.head()\n",
        "print(sum(df.sum() > 3000))"
      ]
    },
    {
      "cell_type": "markdown",
      "source": [
        "## 문제5\n",
        "- 데이터에서 IQR을 활용해 views 컬럼의 이상치를 찾고, 이상치 데이터의 수를 구하시오\n"
      ],
      "metadata": {
        "id": "s8s-g51Z5EA7"
      }
    },
    {
      "cell_type": "code",
      "source": [
        "# 풀이\n",
        "import pandas as pd\n",
        "df = pd.read_csv(\"members.csv\")\n",
        "\n",
        "q3 = df['views'].quantile(.75)\n",
        "q1 = df['views'].quantile(.25)\n",
        "\n",
        "IQR = q3 - q1\n",
        "# print(IQR)\n",
        "\n",
        "line1 = q1 - 1.5 * IQR\n",
        "line2 = q3 + 1.5 * IQR\n",
        "\n",
        "\n",
        "print(sum(df['views'] < line1) + sum(df['views'] > line2))"
      ],
      "metadata": {
        "id": "9mpdqGoJD_zM",
        "colab": {
          "base_uri": "https://localhost:8080/"
        },
        "outputId": "2e7e24d3-4cdf-4546-ef04-900779a3ba6c"
      },
      "execution_count": null,
      "outputs": [
        {
          "output_type": "stream",
          "name": "stdout",
          "text": [
            "4\n"
          ]
        }
      ]
    },
    {
      "cell_type": "markdown",
      "source": [
        "## 문제6\n",
        "- 'age' 컬럼의 이상치(소수점 나이와 음수나이, 0포함)를 제거하고\n",
        "- 제거 전 후의 views 컬럼 표준편차를 더하시오 (최종 결과 값은 소수 둘째자리까지 출력, 셋째자리에서 반올림)"
      ],
      "metadata": {
        "id": "ssStdfrWuUGA"
      }
    },
    {
      "cell_type": "code",
      "source": [
        "# 풀이\n",
        "import pandas as pd\n",
        "df = pd.read_csv(\"members.csv\")\n",
        "\n",
        "r1 = df['views'].std()\n",
        "\n",
        "cond = df['age'] <= 0\n",
        "# print(df.shape)\n",
        "df = df[~cond]\n",
        "# print(df.shape)\n",
        "\n",
        "# print(df.shape)\n",
        "cond = df['age'] == round(df['age'],0)\n",
        "df = df[cond]\n",
        "# print(df.shape)\n",
        "\n",
        "r2 = df['views'].std()\n",
        "\n",
        "print(round(r1 + r2, 2))"
      ],
      "metadata": {
        "id": "jg9GOVGWuUiT",
        "colab": {
          "base_uri": "https://localhost:8080/"
        },
        "outputId": "da0cb77b-e2b5-4615-81c3-3acaf3b5537c"
      },
      "execution_count": null,
      "outputs": [
        {
          "output_type": "stream",
          "name": "stdout",
          "text": [
            "8420.69\n"
          ]
        }
      ]
    },
    {
      "cell_type": "code",
      "source": [],
      "metadata": {
        "id": "UjTZx21OEI8p"
      },
      "execution_count": null,
      "outputs": []
    }
  ]
}