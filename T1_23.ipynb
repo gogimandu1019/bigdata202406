import pandas as pd
df = pd.read_csv('../input/bigdatacertificationkr/basic1.csv')

filling = df['f1'].sort_values(ascending = False).iloc[9]
#print(filling)  88
df['f1'] = df['f1'].fillna(filling)

bef = df['f1'].median() #77.5

df2 = df.drop_duplicates(subset="age") #중복제거 하고나니 71건 / drop_duplicate(subset='기준 칼럼')

aft = df2['f1'].median() #77

answer = abs(bef - aft)
print(answer)